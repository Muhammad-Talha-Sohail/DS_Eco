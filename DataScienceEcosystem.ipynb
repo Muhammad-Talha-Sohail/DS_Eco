{
  "nbformat": 4,
  "nbformat_minor": 0,
  "metadata": {
    "colab": {
      "provenance": []
    },
    "kernelspec": {
      "name": "python3",
      "display_name": "Python 3"
    },
    "language_info": {
      "name": "python"
    }
  },
  "cells": [
    {
      "cell_type": "markdown",
      "source": [
        "# **Data Science Tools and Ecosystem**"
      ],
      "metadata": {
        "id": "Xb0z_qIq_fHG"
      }
    },
    {
      "cell_type": "markdown",
      "source": [
        "In this notebook, Data Science Tools and Ecosystem are summarized.Explore the concept of Data science"
      ],
      "metadata": {
        "id": "mzd-mVit_hPW"
      }
    },
    {
      "cell_type": "markdown",
      "source": [
        "**Objectives:**\n",
        "\n",
        "some of the key takeaways from the course:\n",
        "\n",
        "*   popular languages for Data Science\n",
        "\n",
        "*   popular Libraries in Data Science\n",
        "*   Data Science Tools\n",
        "\n",
        "*   Evaluate the expression\n",
        "\n",
        "*   Converts minute in hours\n",
        "\n",
        "\n",
        "\n"
      ],
      "metadata": {
        "id": "nWGg2iUgCx3Y"
      }
    },
    {
      "cell_type": "markdown",
      "source": [
        "Some of the popular languages that Data Scientists use are:\n",
        "\n",
        "\n",
        "1.   Python\n",
        "2.   R\n",
        "\n",
        "1.   Java\n",
        "2.   Julia\n",
        "\n",
        "1.   Sql\n",
        "\n",
        "\n",
        "\n",
        "\n",
        "\n",
        "\n",
        "\n",
        "\n"
      ],
      "metadata": {
        "id": "IMOMUS6J_pWu"
      }
    },
    {
      "cell_type": "markdown",
      "source": [
        "Some of the popular Libraries in Data Science includes are:\n",
        "\n",
        "\n",
        "1.   Pandas\n",
        "2.   Numpy\n",
        "\n",
        "1.   Matplotlib\n",
        "\n",
        "1.   Scipy\n",
        "2.  Scitkit-learn\n",
        "\n",
        "\n",
        "\n",
        "\n",
        "\n",
        "\n"
      ],
      "metadata": {
        "id": "w4s1H2TQ_3BV"
      }
    },
    {
      "cell_type": "markdown",
      "source": [
        "### **Data Science Tools**\n",
        "\n",
        "\n",
        "\n",
        "1.   Jupyter notebook\n",
        "\n",
        "1.   RStudio\n",
        "2.   Apache zappelin\n",
        "\n",
        "\n"
      ],
      "metadata": {
        "id": "g7M9tF_zAHi0"
      }
    },
    {
      "cell_type": "markdown",
      "source": [
        "### Below are a few examples of evaluating arithmetic expressions in Python"
      ],
      "metadata": {
        "id": "1VOQWwlTBccw"
      }
    },
    {
      "cell_type": "markdown",
      "source": [
        "Evaluate the expression"
      ],
      "metadata": {
        "id": "3uuTJ11mByo2"
      }
    },
    {
      "cell_type": "code",
      "source": [
        "# This a simple arithmetic expression to mutiply then add integers\n",
        "\n",
        "(3*4)+5"
      ],
      "metadata": {
        "colab": {
          "base_uri": "https://localhost:8080/"
        },
        "id": "DufNHZLx_2WO",
        "outputId": "a73c72ac-cab5-4434-b6cf-85871fa68adf"
      },
      "execution_count": 1,
      "outputs": [
        {
          "output_type": "execute_result",
          "data": {
            "text/plain": [
              "17"
            ]
          },
          "metadata": {},
          "execution_count": 1
        }
      ]
    },
    {
      "cell_type": "markdown",
      "source": [
        "Evaluate the expression to convert minutes to hours"
      ],
      "metadata": {
        "id": "IPzWlwuTB1yO"
      }
    },
    {
      "cell_type": "code",
      "source": [
        "# This will convert 200 minutes to hours by diving by 60\n",
        "hrs = round(200/60,3)\n",
        "\n",
        "print(f\"200 minutes is equal to {hrs} hours\")"
      ],
      "metadata": {
        "colab": {
          "base_uri": "https://localhost:8080/"
        },
        "id": "jmbP91jmB9Zm",
        "outputId": "2a709f99-9ede-479e-99e2-dae1310f2407"
      },
      "execution_count": 4,
      "outputs": [
        {
          "output_type": "stream",
          "name": "stdout",
          "text": [
            "200 minutes is equal to 3.333 hours\n"
          ]
        }
      ]
    },
    {
      "cell_type": "markdown",
      "source": [
        "## **Author**\n",
        "\n",
        "Muhammad Talha"
      ],
      "metadata": {
        "id": "nyhiASQCDyNw"
      }
    }
  ]
}